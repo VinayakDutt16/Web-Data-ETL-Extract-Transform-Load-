{
 "cells": [
  {
   "cell_type": "code",
   "execution_count": 1,
   "id": "677d7b02",
   "metadata": {},
   "outputs": [
    {
     "name": "stderr",
     "output_type": "stream",
     "text": [
      "[nltk_data] Downloading package stopwords to\n",
      "[nltk_data]     C:\\Users\\HP\\AppData\\Roaming\\nltk_data...\n",
      "[nltk_data]   Package stopwords is already up-to-date!\n"
     ]
    },
    {
     "data": {
      "text/plain": [
       "True"
      ]
     },
     "execution_count": 1,
     "metadata": {},
     "output_type": "execute_result"
    }
   ],
   "source": [
    "import requests\n",
    "from bs4 import BeautifulSoup\n",
    "from nltk.corpus import stopwords\n",
    "from collections import Counter\n",
    "import pandas as pd\n",
    "import nltk\n",
    "nltk.download(\"stopwords\")"
   ]
  },
  {
   "cell_type": "code",
   "execution_count": 2,
   "id": "b468d0e3",
   "metadata": {},
   "outputs": [],
   "source": [
    "class ScrapperOFweb:\n",
    "    def __init__(self, url):\n",
    "        self.url = url\n",
    "        \n",
    "    def article_text_extractor(self):\n",
    "        response = requests.get(self.url)\n",
    "        html_content = response.content\n",
    "        soup = BeautifulSoup(html_content, \"html.parser\")\n",
    "        text_of_article = soup.get_text()\n",
    "        return text_of_article"
   ]
  },
  {
   "cell_type": "code",
   "execution_count": 21,
   "id": "78ce9256",
   "metadata": {},
   "outputs": [],
   "source": [
    "class Processor_For_text:\n",
    "    def __init__(self,nltk_stopwords):\n",
    "        self.nltk_stopwords = nltk_stopwords\n",
    "        \n",
    "    def tokenizer_with_cleaner(self, text):\n",
    "        words = text.split()\n",
    "        filterd_words = [word.lower() for word in words if word.isalpha() and word.lower() not in self.nltk_stopwords]\n",
    "        return filterd_words"
   ]
  },
  {
   "cell_type": "code",
   "execution_count": 26,
   "id": "3245b468",
   "metadata": {},
   "outputs": [],
   "source": [
    "class Pipeline_For_ETL:\n",
    "    def __init__(self,url):\n",
    "        self.url = url\n",
    "        self.nltk_stopwords = set(stopwords.words(\"english\"))\n",
    "        \n",
    "    def runner(self):\n",
    "        scraper = ScrapperOFweb(self.url)\n",
    "        article_text = scraper.article_text_extractor()\n",
    "        \n",
    "        processor = Processor_For_text(self.nltk_stopwords)\n",
    "        filterd_words = processor.tokenizer_with_cleaner(article_text)\n",
    "        \n",
    "        word_freq = Counter(filterd_words)\n",
    "        df = pd.DataFrame(word_freq.items(), columns = [\"Words\",\"Frequencies\"])\n",
    "        df = df.sort_values(by = \"Frequencies\",ascending = False)\n",
    "        return df"
   ]
  },
  {
   "cell_type": "code",
   "execution_count": 28,
   "id": "f7a9536f",
   "metadata": {},
   "outputs": [
    {
     "name": "stdout",
     "output_type": "stream",
     "text": [
      "      Words  Frequencies\n",
      "2       pmc            7\n",
      "0      page            3\n",
      "4      main            3\n",
      "5   content            3\n",
      "30  account            3\n"
     ]
    }
   ],
   "source": [
    "if  __name__ == \"__main__\":\n",
    "    article_url = \"https://www.ncbi.nlm.nih.gov/pmc/articles/PMC3543134/\"\n",
    "    \n",
    "    pipeline = Pipeline_For_ETL(article_url)\n",
    "    result_df = pipeline.runner()\n",
    "    print(result_df.head())"
   ]
  },
  {
   "cell_type": "code",
   "execution_count": 29,
   "id": "98b098c9",
   "metadata": {},
   "outputs": [
    {
     "name": "stdout",
     "output_type": "stream",
     "text": [
      "         Words  Frequencies\n",
      "549     google          259\n",
      "2678   scholar          245\n",
      "1         deep          226\n",
      "56    learning          225\n",
      "141     neural          166\n"
     ]
    }
   ],
   "source": [
    "if  __name__ == \"__main__\":\n",
    "    article_url = \"https://journalofbigdata.springeropen.com/articles/10.1186/s40537-021-00444-8\"\n",
    "    \n",
    "    pipeline = Pipeline_For_ETL(article_url)\n",
    "    result_df = pipeline.runner()\n",
    "    print(result_df.head())"
   ]
  },
  {
   "cell_type": "code",
   "execution_count": null,
   "id": "37310721",
   "metadata": {},
   "outputs": [],
   "source": []
  }
 ],
 "metadata": {
  "kernelspec": {
   "display_name": "Python 3 (ipykernel)",
   "language": "python",
   "name": "python3"
  },
  "language_info": {
   "codemirror_mode": {
    "name": "ipython",
    "version": 3
   },
   "file_extension": ".py",
   "mimetype": "text/x-python",
   "name": "python",
   "nbconvert_exporter": "python",
   "pygments_lexer": "ipython3",
   "version": "3.11.4"
  }
 },
 "nbformat": 4,
 "nbformat_minor": 5
}
